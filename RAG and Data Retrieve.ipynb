{
 "cells": [
  {
   "cell_type": "code",
   "execution_count": 37,
   "metadata": {},
   "outputs": [
    {
     "name": "stdout",
     "output_type": "stream",
     "text": [
      "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\n"
     ]
    }
   ],
   "source": [
    "from llama_index.llms.groq import Groq\n",
    "import os\n",
    "os.environ['GROQ_API_KEY'] = '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'  # Replace with your actual API key\n",
    "llm = Groq(model=\"llama3-70b-8192\",api_key=os.environ.get(\"GROQ_API_KEY\"))\n",
    "\n",
    "print(os.environ.get(\"GROQ_API_KEY\"))"
   ]
  },
  {
   "cell_type": "code",
   "execution_count": 21,
   "metadata": {},
   "outputs": [],
   "source": [
    "from llama_index.embeddings.huggingface import HuggingFaceEmbedding\n",
    "\n",
    "embed_model = HuggingFaceEmbedding(model_name=\"mixedbread-ai/mxbai-embed-large-v1\")"
   ]
  },
  {
   "cell_type": "code",
   "execution_count": 38,
   "metadata": {},
   "outputs": [],
   "source": [
    "from llama_index.core import Settings\n",
    "\n",
    "Settings.llm = llm\n",
    "Settings.embed_model = embed_model"
   ]
  },
  {
   "cell_type": "code",
   "execution_count": 30,
   "metadata": {},
   "outputs": [],
   "source": [
    "from llama_index.core import SimpleDirectoryReader\n",
    "\n",
    "de_tools_blog = SimpleDirectoryReader(\"/Users/jasmine/Documents/PythonProject/learn/\",required_exts=[\".pdf\", \".docx\"]).load_data()"
   ]
  },
  {
   "cell_type": "code",
   "execution_count": 39,
   "metadata": {},
   "outputs": [
    {
     "name": "stdout",
     "output_type": "stream",
     "text": [
      "There are 3 tools mentioned: a business plan, a \"yardstick\", and a \"road map\".\n"
     ]
    }
   ],
   "source": [
    "from llama_index.core import VectorStoreIndex\n",
    "\n",
    "index = VectorStoreIndex.from_documents(de_tools_blog)\n",
    "query_engine = index.as_query_engine(similarity_top_k=3)\n",
    "\n",
    "response = query_engine.query(\"How many tools are there?\")\n",
    "print(response)"
   ]
  },
  {
   "cell_type": "code",
   "execution_count": 40,
   "metadata": {},
   "outputs": [
    {
     "name": "stdout",
     "output_type": "stream",
     "text": [
      "Based on the provided documents, I can see that the most expansive expense in the business plan of Fancy's Foods LLC is the Building, which is listed under Fixed Assets with a value of $100,500.00. This is the largest single expense in the Pro Forma Balance Sheet.\n"
     ]
    }
   ],
   "source": [
    "from llama_index.core.memory import ChatMemoryBuffer\n",
    "from llama_index.core.chat_engine import CondensePlusContextChatEngine\n",
    "\n",
    "memory = ChatMemoryBuffer.from_defaults(token_limit=3900)\n",
    "\n",
    "chat_engine = CondensePlusContextChatEngine.from_defaults(    \n",
    "   index.as_retriever(),    \n",
    "   memory=memory,    \n",
    "   llm=llm\n",
    ")\n",
    "\n",
    "response = chat_engine.chat(    \n",
    "   \"What is the most expansive expense in most of the business plan?\"\n",
    ")\n",
    "print(str(response))"
   ]
  },
  {
   "cell_type": "code",
   "execution_count": 42,
   "metadata": {},
   "outputs": [
    {
     "name": "stdout",
     "output_type": "stream",
     "text": [
      "I can try to help you with that! Based on the sample business plan provided in the document, here is a possible outline of a business plan development:\n",
      "\n",
      "I. Executive Summary\n",
      "   - Brief overview of the business\n",
      "\n",
      "II. Background and History\n",
      "   - Brief background of the business\n",
      "   - History of the business\n",
      "\n",
      "III. Business Goals and Objectives\n",
      "   - Specific, measurable, achievable, relevant, and time-bound (SMART) goals\n",
      "   - Objectives of the business\n",
      "\n",
      "IV. Description of Products/Services\n",
      "   - Detailed description of the products or services offered\n",
      "   - Features, benefits, and target market\n",
      "\n",
      "V. Market Description/Assessment\n",
      "   - Analysis of the target market\n",
      "   - Market trends, competition, and potential customers\n",
      "\n",
      "VI. Competition Assessment\n",
      "   - Analysis of the competitive landscape\n",
      "   - Strengths, weaknesses, opportunities, and threats (SWOT analysis)\n",
      "\n",
      "VII. Marketing Strategies\n",
      "   - Strategies for promoting and selling the products or services\n",
      "   - Pricing, advertising, and sales strategies\n",
      "\n",
      "VIII. Manufacturing Plans\n",
      "   - Description of the production process\n",
      "   - Supply chain management and logistics\n",
      "\n",
      "IX. Pro Forma Financial Analysis\n",
      "   - Financial projections, including income statements, balance sheets, and cash flow statements\n",
      "\n",
      "X. Contingency Plans\n",
      "   - Plans for addressing potential risks and challenges\n",
      "   - Strategies for adapting to changes in the market or industry\n",
      "\n",
      "XI. Appendix\n",
      "   - Additional information, such as resumes, flowcharts, diagrams, and other supporting documents\n",
      "\n",
      "Please note that this is a simplified outline, and a real business plan would require more detailed and specific information.\n"
     ]
    }
   ],
   "source": [
    "response = chat_engine.chat(\n",
    "    \"Can you create a diagram of a business plan by the example plan you learn from this document?\"\n",
    ")\n",
    "print(str(response))"
   ]
  }
 ],
 "metadata": {
  "kernelspec": {
   "display_name": ".venv",
   "language": "python",
   "name": "python3"
  },
  "language_info": {
   "codemirror_mode": {
    "name": "ipython",
    "version": 3
   },
   "file_extension": ".py",
   "mimetype": "text/x-python",
   "name": "python",
   "nbconvert_exporter": "python",
   "pygments_lexer": "ipython3",
   "version": "3.12.5"
  }
 },
 "nbformat": 4,
 "nbformat_minor": 2
}
